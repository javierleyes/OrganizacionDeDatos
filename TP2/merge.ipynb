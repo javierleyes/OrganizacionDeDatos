{
 "cells": [
  {
   "cell_type": "code",
   "execution_count": 2,
   "metadata": {},
   "outputs": [],
   "source": [
    "# importacion general de librerias y de visualizacion (matplotlib y seaborn)\n",
    "import pandas as pd\n",
    "import numpy as np\n",
    "\n",
    "datos_dir = \"../../\""
   ]
  },
  {
   "cell_type": "markdown",
   "metadata": {},
   "source": [
    "## Merge de sets de datos\n",
    "\n",
    "Unir todos los sets de datos para tener todos los datos relevantes en un solo lugar"
   ]
  },
  {
   "cell_type": "markdown",
   "metadata": {},
   "source": [
    "### 1. Educacion de postulantes"
   ]
  },
  {
   "cell_type": "code",
   "execution_count": 60,
   "metadata": {},
   "outputs": [
    {
     "name": "stdout",
     "output_type": "stream",
     "text": [
      "<class 'pandas.core.frame.DataFrame'>\n",
      "Int64Index: 1103193 entries, 0 to 397508\n",
      "Data columns (total 3 columns):\n",
      "idpostulante    1103193 non-null object\n",
      "nombre          1103193 non-null object\n",
      "estado          1103193 non-null object\n",
      "dtypes: object(3)\n",
      "memory usage: 33.7+ MB\n"
     ]
    }
   ],
   "source": [
    "df_temp1 = pd.read_csv(datos_dir + 'datos_navent_fiuba/fiuba_1_postulantes_educacion.csv')\n",
    "df_temp2 = pd.read_csv(datos_dir + 'fiuba_hasta_15_abril/entrega6/fiuba_1_postulantes_educacion.csv')\n",
    "df_temp3 = pd.read_csv(datos_dir + 'fiuba desde 15 abril/fiuba_1_postulantes_educacion.csv')\n",
    "\n",
    "df_merge = pd.concat([df_temp1,df_temp2,df_temp3])\n",
    "df_merge.info()"
   ]
  },
  {
   "cell_type": "code",
   "execution_count": 61,
   "metadata": {},
   "outputs": [],
   "source": [
    "df_merge = df_merge.drop_duplicates().reset_index(drop=True)"
   ]
  },
  {
   "cell_type": "code",
   "execution_count": 62,
   "metadata": {},
   "outputs": [
    {
     "name": "stdout",
     "output_type": "stream",
     "text": [
      "<class 'pandas.core.frame.DataFrame'>\n",
      "RangeIndex: 693641 entries, 0 to 693640\n",
      "Data columns (total 3 columns):\n",
      "idpostulante    693641 non-null object\n",
      "nombre          693641 non-null object\n",
      "estado          693641 non-null object\n",
      "dtypes: object(3)\n",
      "memory usage: 15.9+ MB\n"
     ]
    }
   ],
   "source": [
    "df_merge.info()"
   ]
  },
  {
   "cell_type": "markdown",
   "metadata": {},
   "source": [
    "#### Guardar merge -> 1_postulantes_educacion"
   ]
  },
  {
   "cell_type": "code",
   "execution_count": 55,
   "metadata": {},
   "outputs": [],
   "source": [
    "df_merge.to_csv(datos_dir + 'merge/1_postulantes_educacion.csv')"
   ]
  },
  {
   "cell_type": "markdown",
   "metadata": {},
   "source": [
    "---\n",
    "### 2. Genero y edad de postulantes"
   ]
  },
  {
   "cell_type": "code",
   "execution_count": 64,
   "metadata": {},
   "outputs": [
    {
     "name": "stdout",
     "output_type": "stream",
     "text": [
      "<class 'pandas.core.frame.DataFrame'>\n",
      "Int64Index: 780020 entries, 0 to 281384\n",
      "Data columns (total 3 columns):\n",
      "idpostulante       780020 non-null object\n",
      "fechanacimiento    745747 non-null object\n",
      "sexo               780020 non-null object\n",
      "dtypes: object(3)\n",
      "memory usage: 23.8+ MB\n"
     ]
    }
   ],
   "source": [
    "df_temp1 = pd.read_csv(datos_dir + 'fiuba_hasta_15_abril/entrega6/fiuba_2_postulantes_genero_y_edad.csv')\n",
    "df_temp2 = pd.read_csv(datos_dir + 'datos_navent_fiuba/fiuba_2_postulantes_genero_y_edad.csv')\n",
    "df_temp3 = pd.read_csv(datos_dir + 'fiuba desde 15 abril/fiuba_2_postulantes_genero_y_edad.csv')\n",
    "\n",
    "df_merge = pd.concat([df_temp1,df_temp2,df_temp3])\n",
    "df_merge.info()"
   ]
  },
  {
   "cell_type": "code",
   "execution_count": 65,
   "metadata": {},
   "outputs": [],
   "source": [
    "df_merge = df_merge.drop_duplicates().reset_index(drop=True)"
   ]
  },
  {
   "cell_type": "code",
   "execution_count": 66,
   "metadata": {},
   "outputs": [
    {
     "name": "stdout",
     "output_type": "stream",
     "text": [
      "<class 'pandas.core.frame.DataFrame'>\n",
      "RangeIndex: 505382 entries, 0 to 505381\n",
      "Data columns (total 3 columns):\n",
      "idpostulante       505382 non-null object\n",
      "fechanacimiento    478699 non-null object\n",
      "sexo               505382 non-null object\n",
      "dtypes: object(3)\n",
      "memory usage: 11.6+ MB\n"
     ]
    }
   ],
   "source": [
    "df_merge.info()"
   ]
  },
  {
   "cell_type": "code",
   "execution_count": 68,
   "metadata": {},
   "outputs": [
    {
     "name": "stdout",
     "output_type": "stream",
     "text": [
      "Ok\n"
     ]
    }
   ],
   "source": [
    "# Las fechas malas pueden descartarse\n",
    "df_merge['fechanacimiento'] = pd.to_datetime(df_merge['fechanacimiento'], errors='coerce')\n",
    "print(\"Ok\")"
   ]
  },
  {
   "cell_type": "code",
   "execution_count": 69,
   "metadata": {},
   "outputs": [
    {
     "name": "stdout",
     "output_type": "stream",
     "text": [
      "Ok\n"
     ]
    }
   ],
   "source": [
    "# Considero fechas anteriores al siglo XX como invalidas\n",
    "df_merge.loc[df_merge['fechanacimiento'] < '1900-01-01', 'fechanacimiento'] = pd.NaT\n",
    "print(\"Ok\")"
   ]
  },
  {
   "cell_type": "code",
   "execution_count": 70,
   "metadata": {},
   "outputs": [
    {
     "name": "stdout",
     "output_type": "stream",
     "text": [
      "Ok\n"
     ]
    }
   ],
   "source": [
    "# Considero fechas que implican edades menores a 15 anios como invalidas\n",
    "df_merge.loc[df_merge['fechanacimiento'] > '2003-01-01', 'fechanacimiento'] = pd.NaT\n",
    "print(\"Ok\")"
   ]
  },
  {
   "cell_type": "code",
   "execution_count": 71,
   "metadata": {},
   "outputs": [
    {
     "data": {
      "text/plain": [
       "True"
      ]
     },
     "execution_count": 71,
     "metadata": {},
     "output_type": "execute_result"
    }
   ],
   "source": [
    "(df_merge['idpostulante'].value_counts() > 1).any()"
   ]
  },
  {
   "cell_type": "code",
   "execution_count": 74,
   "metadata": {},
   "outputs": [
    {
     "data": {
      "text/plain": [
       "False"
      ]
     },
     "execution_count": 74,
     "metadata": {},
     "output_type": "execute_result"
    }
   ],
   "source": [
    "# ouch\n",
    "df_merge = df_merge.drop_duplicates(subset='idpostulante', keep=\"last\").reset_index(drop=True)\n",
    "(df_merge['idpostulante'].value_counts() > 1).any()"
   ]
  },
  {
   "cell_type": "code",
   "execution_count": 75,
   "metadata": {},
   "outputs": [],
   "source": [
    "df_merge.to_csv(datos_dir + 'merge/2_postulantes_genero_y_edad.csv')"
   ]
  },
  {
   "cell_type": "markdown",
   "metadata": {},
   "source": [
    "---\n",
    "### 3. Vista de avisos online y offline"
   ]
  },
  {
   "cell_type": "code",
   "execution_count": 76,
   "metadata": {},
   "outputs": [
    {
     "name": "stdout",
     "output_type": "stream",
     "text": [
      "<class 'pandas.core.frame.DataFrame'>\n",
      "Int64Index: 18368813 entries, 0 to 11648229\n",
      "Data columns (total 3 columns):\n",
      "idAviso         int64\n",
      "timestamp       object\n",
      "idpostulante    object\n",
      "dtypes: int64(1), object(2)\n",
      "memory usage: 560.6+ MB\n"
     ]
    }
   ],
   "source": [
    "# Esto puede dolerle a tu kernel\n",
    "df_temp1 = pd.read_csv(datos_dir + 'fiuba_hasta_15_abril/entrega6/fiuba_3_vistas.csv')\n",
    "df_temp2 = pd.read_csv(datos_dir + 'datos_navent_fiuba/fiuba_3_vistas.csv')\n",
    "df_temp3 = pd.read_csv(datos_dir + 'fiuba desde 15 abril/fiuba_3_vistas.csv')\n",
    "\n",
    "df_merge = pd.concat([df_temp1,df_temp2,df_temp3])\n",
    "df_merge.info()"
   ]
  },
  {
   "cell_type": "code",
   "execution_count": 77,
   "metadata": {},
   "outputs": [
    {
     "name": "stdout",
     "output_type": "stream",
     "text": [
      "<class 'pandas.core.frame.DataFrame'>\n",
      "RangeIndex: 16754298 entries, 0 to 16754297\n",
      "Data columns (total 3 columns):\n",
      "idAviso         int64\n",
      "timestamp       object\n",
      "idpostulante    object\n",
      "dtypes: int64(1), object(2)\n",
      "memory usage: 383.5+ MB\n"
     ]
    }
   ],
   "source": [
    "df_merge = df_merge.drop_duplicates().reset_index(drop=True)\n",
    "df_merge.info()"
   ]
  },
  {
   "cell_type": "code",
   "execution_count": 79,
   "metadata": {},
   "outputs": [
    {
     "data": {
      "text/html": [
       "<div>\n",
       "<style scoped>\n",
       "    .dataframe tbody tr th:only-of-type {\n",
       "        vertical-align: middle;\n",
       "    }\n",
       "\n",
       "    .dataframe tbody tr th {\n",
       "        vertical-align: top;\n",
       "    }\n",
       "\n",
       "    .dataframe thead th {\n",
       "        text-align: right;\n",
       "    }\n",
       "</style>\n",
       "<table border=\"1\" class=\"dataframe\">\n",
       "  <thead>\n",
       "    <tr style=\"text-align: right;\">\n",
       "      <th></th>\n",
       "      <th>idAviso</th>\n",
       "      <th>timestamp</th>\n",
       "      <th>idpostulante</th>\n",
       "    </tr>\n",
       "  </thead>\n",
       "  <tbody>\n",
       "    <tr>\n",
       "      <th>0</th>\n",
       "      <td>1112400775</td>\n",
       "      <td>2018-04-06 05:43:47.445</td>\n",
       "      <td>kPjr2K0</td>\n",
       "    </tr>\n",
       "    <tr>\n",
       "      <th>1</th>\n",
       "      <td>1112400775</td>\n",
       "      <td>2018-04-06 05:43:48.330</td>\n",
       "      <td>kPjr2K0</td>\n",
       "    </tr>\n",
       "    <tr>\n",
       "      <th>2</th>\n",
       "      <td>1112426664</td>\n",
       "      <td>2018-04-06 05:43:50.042</td>\n",
       "      <td>GNOwZmb</td>\n",
       "    </tr>\n",
       "    <tr>\n",
       "      <th>3</th>\n",
       "      <td>1112426664</td>\n",
       "      <td>2018-04-06 05:43:51.171</td>\n",
       "      <td>GNOwZmb</td>\n",
       "    </tr>\n",
       "    <tr>\n",
       "      <th>4</th>\n",
       "      <td>1112445738</td>\n",
       "      <td>2018-04-06 05:43:46.371</td>\n",
       "      <td>lDLxajz</td>\n",
       "    </tr>\n",
       "  </tbody>\n",
       "</table>\n",
       "</div>"
      ],
      "text/plain": [
       "      idAviso               timestamp idpostulante\n",
       "0  1112400775 2018-04-06 05:43:47.445      kPjr2K0\n",
       "1  1112400775 2018-04-06 05:43:48.330      kPjr2K0\n",
       "2  1112426664 2018-04-06 05:43:50.042      GNOwZmb\n",
       "3  1112426664 2018-04-06 05:43:51.171      GNOwZmb\n",
       "4  1112445738 2018-04-06 05:43:46.371      lDLxajz"
      ]
     },
     "execution_count": 79,
     "metadata": {},
     "output_type": "execute_result"
    }
   ],
   "source": [
    "df_merge['timestamp'] = pd.to_datetime(df_merge['timestamp'], format='%Y-%m-%d', infer_datetime_format=False)\n",
    "df_merge.head()"
   ]
  },
  {
   "cell_type": "code",
   "execution_count": null,
   "metadata": {},
   "outputs": [],
   "source": []
  }
 ],
 "metadata": {
  "kernelspec": {
   "display_name": "Python 3",
   "language": "python",
   "name": "python3"
  },
  "language_info": {
   "codemirror_mode": {
    "name": "ipython",
    "version": 3
   },
   "file_extension": ".py",
   "mimetype": "text/x-python",
   "name": "python",
   "nbconvert_exporter": "python",
   "pygments_lexer": "ipython3",
   "version": "3.6.5"
  }
 },
 "nbformat": 4,
 "nbformat_minor": 2
}
