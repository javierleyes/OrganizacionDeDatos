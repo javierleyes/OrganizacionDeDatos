{
 "cells": [
  {
   "cell_type": "code",
   "execution_count": 1,
   "metadata": {},
   "outputs": [],
   "source": [
    "# importacion general de librerias y de visualizacion (matplotlib y seaborn)\n",
    "import pandas as pd\n",
    "import numpy as np\n",
    "\n",
    "datos_dir = \"../../\""
   ]
  },
  {
   "cell_type": "markdown",
   "metadata": {},
   "source": [
    "# Inspeccion : Fiuba_desde_15_abril\n",
    "\n",
    "## 1. Educacion de postulantes"
   ]
  },
  {
   "cell_type": "code",
   "execution_count": 6,
   "metadata": {},
   "outputs": [
    {
     "data": {
      "text/html": [
       "<div>\n",
       "<style scoped>\n",
       "    .dataframe tbody tr th:only-of-type {\n",
       "        vertical-align: middle;\n",
       "    }\n",
       "\n",
       "    .dataframe tbody tr th {\n",
       "        vertical-align: top;\n",
       "    }\n",
       "\n",
       "    .dataframe thead th {\n",
       "        text-align: right;\n",
       "    }\n",
       "</style>\n",
       "<table border=\"1\" class=\"dataframe\">\n",
       "  <thead>\n",
       "    <tr style=\"text-align: right;\">\n",
       "      <th></th>\n",
       "      <th>idpostulante</th>\n",
       "      <th>nombre</th>\n",
       "      <th>estado</th>\n",
       "    </tr>\n",
       "  </thead>\n",
       "  <tbody>\n",
       "    <tr>\n",
       "      <th>0</th>\n",
       "      <td>YZP</td>\n",
       "      <td>Master</td>\n",
       "      <td>En Curso</td>\n",
       "    </tr>\n",
       "    <tr>\n",
       "      <th>1</th>\n",
       "      <td>ZjlZ</td>\n",
       "      <td>Master</td>\n",
       "      <td>En Curso</td>\n",
       "    </tr>\n",
       "    <tr>\n",
       "      <th>2</th>\n",
       "      <td>aEW8J</td>\n",
       "      <td>Universitario</td>\n",
       "      <td>En Curso</td>\n",
       "    </tr>\n",
       "    <tr>\n",
       "      <th>3</th>\n",
       "      <td>8QGRj</td>\n",
       "      <td>Universitario</td>\n",
       "      <td>En Curso</td>\n",
       "    </tr>\n",
       "    <tr>\n",
       "      <th>4</th>\n",
       "      <td>eRYl5r</td>\n",
       "      <td>Universitario</td>\n",
       "      <td>En Curso</td>\n",
       "    </tr>\n",
       "  </tbody>\n",
       "</table>\n",
       "</div>"
      ],
      "text/plain": [
       "  idpostulante         nombre    estado\n",
       "0          YZP         Master  En Curso\n",
       "1         ZjlZ         Master  En Curso\n",
       "2        aEW8J  Universitario  En Curso\n",
       "3        8QGRj  Universitario  En Curso\n",
       "4       eRYl5r  Universitario  En Curso"
      ]
     },
     "execution_count": 6,
     "metadata": {},
     "output_type": "execute_result"
    }
   ],
   "source": [
    "df_temp = pd.read_csv(datos_dir + 'fiuba desde 15 abril/fiuba_1_postulantes_educacion.csv')\n",
    "df_temp.head() "
   ]
  },
  {
   "cell_type": "code",
   "execution_count": 7,
   "metadata": {},
   "outputs": [
    {
     "data": {
      "text/plain": [
       "Universitario        145069\n",
       "Secundario           136915\n",
       "Terciario/Técnico     65276\n",
       "Otro                  31161\n",
       "Posgrado              12599\n",
       "Master                 6139\n",
       "Doctorado               350\n",
       "Name: nombre, dtype: int64"
      ]
     },
     "execution_count": 7,
     "metadata": {},
     "output_type": "execute_result"
    }
   ],
   "source": [
    "df_temp['nombre'].value_counts()"
   ]
  },
  {
   "cell_type": "code",
   "execution_count": 8,
   "metadata": {},
   "outputs": [
    {
     "data": {
      "text/plain": [
       "Graduado      261312\n",
       "En Curso      101815\n",
       "Abandonado     34382\n",
       "Name: estado, dtype: int64"
      ]
     },
     "execution_count": 8,
     "metadata": {},
     "output_type": "execute_result"
    }
   ],
   "source": [
    "df_temp['estado'].value_counts()"
   ]
  },
  {
   "cell_type": "code",
   "execution_count": 9,
   "metadata": {},
   "outputs": [
    {
     "data": {
      "text/plain": [
       "idpostulante    False\n",
       "nombre          False\n",
       "estado          False\n",
       "dtype: bool"
      ]
     },
     "execution_count": 9,
     "metadata": {},
     "output_type": "execute_result"
    }
   ],
   "source": [
    "df_temp.isnull().any()"
   ]
  },
  {
   "cell_type": "code",
   "execution_count": 10,
   "metadata": {},
   "outputs": [
    {
     "data": {
      "text/plain": [
       "True"
      ]
     },
     "execution_count": 10,
     "metadata": {},
     "output_type": "execute_result"
    }
   ],
   "source": [
    "(df_temp['idpostulante'].value_counts() > 1).any()"
   ]
  },
  {
   "cell_type": "markdown",
   "metadata": {},
   "source": [
    "## 2. Genero y edad de postulantes\n",
    "### Inspeccion rapida: Forma y calidad"
   ]
  },
  {
   "cell_type": "code",
   "execution_count": 19,
   "metadata": {},
   "outputs": [
    {
     "data": {
      "text/html": [
       "<div>\n",
       "<style scoped>\n",
       "    .dataframe tbody tr th:only-of-type {\n",
       "        vertical-align: middle;\n",
       "    }\n",
       "\n",
       "    .dataframe tbody tr th {\n",
       "        vertical-align: top;\n",
       "    }\n",
       "\n",
       "    .dataframe thead th {\n",
       "        text-align: right;\n",
       "    }\n",
       "</style>\n",
       "<table border=\"1\" class=\"dataframe\">\n",
       "  <thead>\n",
       "    <tr style=\"text-align: right;\">\n",
       "      <th></th>\n",
       "      <th>idpostulante</th>\n",
       "      <th>fechanacimiento</th>\n",
       "      <th>sexo</th>\n",
       "    </tr>\n",
       "  </thead>\n",
       "  <tbody>\n",
       "    <tr>\n",
       "      <th>0</th>\n",
       "      <td>6MM</td>\n",
       "      <td>1985-01-01</td>\n",
       "      <td>MASC</td>\n",
       "    </tr>\n",
       "    <tr>\n",
       "      <th>1</th>\n",
       "      <td>ZX1</td>\n",
       "      <td>NaN</td>\n",
       "      <td>NO_DECLARA</td>\n",
       "    </tr>\n",
       "    <tr>\n",
       "      <th>2</th>\n",
       "      <td>YZP</td>\n",
       "      <td>1961-05-01</td>\n",
       "      <td>MASC</td>\n",
       "    </tr>\n",
       "    <tr>\n",
       "      <th>3</th>\n",
       "      <td>ebE</td>\n",
       "      <td>1952-07-07</td>\n",
       "      <td>MASC</td>\n",
       "    </tr>\n",
       "    <tr>\n",
       "      <th>4</th>\n",
       "      <td>N1x</td>\n",
       "      <td>NaN</td>\n",
       "      <td>NO_DECLARA</td>\n",
       "    </tr>\n",
       "  </tbody>\n",
       "</table>\n",
       "</div>"
      ],
      "text/plain": [
       "  idpostulante fechanacimiento        sexo\n",
       "0          6MM      1985-01-01        MASC\n",
       "1          ZX1             NaN  NO_DECLARA\n",
       "2          YZP      1961-05-01        MASC\n",
       "3          ebE      1952-07-07        MASC\n",
       "4          N1x             NaN  NO_DECLARA"
      ]
     },
     "execution_count": 19,
     "metadata": {},
     "output_type": "execute_result"
    }
   ],
   "source": [
    "df_temp = pd.read_csv(datos_dir + 'fiuba desde 15 abril/fiuba_2_postulantes_genero_y_edad.csv')\n",
    "df_temp.head()"
   ]
  },
  {
   "cell_type": "code",
   "execution_count": 13,
   "metadata": {},
   "outputs": [
    {
     "data": {
      "text/plain": [
       "FEM           140041\n",
       "MASC          128726\n",
       "NO_DECLARA     12615\n",
       "0.0                3\n",
       "Name: sexo, dtype: int64"
      ]
     },
     "execution_count": 13,
     "metadata": {},
     "output_type": "execute_result"
    }
   ],
   "source": [
    "df_temp['sexo'].value_counts()"
   ]
  },
  {
   "cell_type": "code",
   "execution_count": 14,
   "metadata": {},
   "outputs": [
    {
     "data": {
      "text/plain": [
       "idpostulante       False\n",
       "fechanacimiento     True\n",
       "sexo               False\n",
       "dtype: bool"
      ]
     },
     "execution_count": 14,
     "metadata": {},
     "output_type": "execute_result"
    }
   ],
   "source": [
    "df_temp.isnull().any()"
   ]
  },
  {
   "cell_type": "code",
   "execution_count": 15,
   "metadata": {},
   "outputs": [
    {
     "data": {
      "text/plain": [
       "idpostulante           0\n",
       "fechanacimiento    12903\n",
       "sexo                   0\n",
       "dtype: int64"
      ]
     },
     "execution_count": 15,
     "metadata": {},
     "output_type": "execute_result"
    }
   ],
   "source": [
    "df_temp.isnull().sum()"
   ]
  },
  {
   "cell_type": "code",
   "execution_count": 16,
   "metadata": {},
   "outputs": [
    {
     "data": {
      "text/html": [
       "<div>\n",
       "<style scoped>\n",
       "    .dataframe tbody tr th:only-of-type {\n",
       "        vertical-align: middle;\n",
       "    }\n",
       "\n",
       "    .dataframe tbody tr th {\n",
       "        vertical-align: top;\n",
       "    }\n",
       "\n",
       "    .dataframe thead th {\n",
       "        text-align: right;\n",
       "    }\n",
       "</style>\n",
       "<table border=\"1\" class=\"dataframe\">\n",
       "  <thead>\n",
       "    <tr style=\"text-align: right;\">\n",
       "      <th></th>\n",
       "      <th>idpostulante</th>\n",
       "      <th>fechanacimiento</th>\n",
       "      <th>sexo</th>\n",
       "    </tr>\n",
       "  </thead>\n",
       "  <tbody>\n",
       "    <tr>\n",
       "      <th>3499</th>\n",
       "      <td>VNxMRxj</td>\n",
       "      <td>0019-08-14</td>\n",
       "      <td>FEM</td>\n",
       "    </tr>\n",
       "    <tr>\n",
       "      <th>6954</th>\n",
       "      <td>5KK95Z</td>\n",
       "      <td>0029-01-08</td>\n",
       "      <td>MASC</td>\n",
       "    </tr>\n",
       "    <tr>\n",
       "      <th>7753</th>\n",
       "      <td>ak5PvOD</td>\n",
       "      <td>0011-07-31</td>\n",
       "      <td>FEM</td>\n",
       "    </tr>\n",
       "    <tr>\n",
       "      <th>44847</th>\n",
       "      <td>8M2R6pz</td>\n",
       "      <td>0024-02-09</td>\n",
       "      <td>FEM</td>\n",
       "    </tr>\n",
       "    <tr>\n",
       "      <th>46403</th>\n",
       "      <td>0zPrzBd</td>\n",
       "      <td>0001-11-30</td>\n",
       "      <td>NO_DECLARA</td>\n",
       "    </tr>\n",
       "    <tr>\n",
       "      <th>59301</th>\n",
       "      <td>9692Xdw</td>\n",
       "      <td>0034-03-03</td>\n",
       "      <td>FEM</td>\n",
       "    </tr>\n",
       "    <tr>\n",
       "      <th>72503</th>\n",
       "      <td>GNZOvAv</td>\n",
       "      <td>0004-07-19</td>\n",
       "      <td>MASC</td>\n",
       "    </tr>\n",
       "    <tr>\n",
       "      <th>76964</th>\n",
       "      <td>Bm5mm4Q</td>\n",
       "      <td>0014-06-02</td>\n",
       "      <td>FEM</td>\n",
       "    </tr>\n",
       "    <tr>\n",
       "      <th>83780</th>\n",
       "      <td>lDXXla1</td>\n",
       "      <td>0012-07-23</td>\n",
       "      <td>FEM</td>\n",
       "    </tr>\n",
       "    <tr>\n",
       "      <th>91504</th>\n",
       "      <td>pzN5p5p</td>\n",
       "      <td>0021-08-11</td>\n",
       "      <td>FEM</td>\n",
       "    </tr>\n",
       "    <tr>\n",
       "      <th>95113</th>\n",
       "      <td>0zPqvGM</td>\n",
       "      <td>0009-06-10</td>\n",
       "      <td>FEM</td>\n",
       "    </tr>\n",
       "    <tr>\n",
       "      <th>111260</th>\n",
       "      <td>EWbKXN</td>\n",
       "      <td>0032-07-01</td>\n",
       "      <td>MASC</td>\n",
       "    </tr>\n",
       "    <tr>\n",
       "      <th>133222</th>\n",
       "      <td>kPLP04J</td>\n",
       "      <td>0028-11-06</td>\n",
       "      <td>FEM</td>\n",
       "    </tr>\n",
       "    <tr>\n",
       "      <th>167918</th>\n",
       "      <td>5P39Oq</td>\n",
       "      <td>0019-08-01</td>\n",
       "      <td>FEM</td>\n",
       "    </tr>\n",
       "    <tr>\n",
       "      <th>174548</th>\n",
       "      <td>8M230mj</td>\n",
       "      <td>0008-11-10</td>\n",
       "      <td>MASC</td>\n",
       "    </tr>\n",
       "    <tr>\n",
       "      <th>233347</th>\n",
       "      <td>xkdGe5Y</td>\n",
       "      <td>0015-09-11</td>\n",
       "      <td>FEM</td>\n",
       "    </tr>\n",
       "    <tr>\n",
       "      <th>254193</th>\n",
       "      <td>Drp5kLd</td>\n",
       "      <td>0007-10-21</td>\n",
       "      <td>FEM</td>\n",
       "    </tr>\n",
       "    <tr>\n",
       "      <th>268094</th>\n",
       "      <td>14pm8E</td>\n",
       "      <td>0032-08-05</td>\n",
       "      <td>FEM</td>\n",
       "    </tr>\n",
       "  </tbody>\n",
       "</table>\n",
       "</div>"
      ],
      "text/plain": [
       "       idpostulante fechanacimiento        sexo\n",
       "3499        VNxMRxj      0019-08-14         FEM\n",
       "6954         5KK95Z      0029-01-08        MASC\n",
       "7753        ak5PvOD      0011-07-31         FEM\n",
       "44847       8M2R6pz      0024-02-09         FEM\n",
       "46403       0zPrzBd      0001-11-30  NO_DECLARA\n",
       "59301       9692Xdw      0034-03-03         FEM\n",
       "72503       GNZOvAv      0004-07-19        MASC\n",
       "76964       Bm5mm4Q      0014-06-02         FEM\n",
       "83780       lDXXla1      0012-07-23         FEM\n",
       "91504       pzN5p5p      0021-08-11         FEM\n",
       "95113       0zPqvGM      0009-06-10         FEM\n",
       "111260       EWbKXN      0032-07-01        MASC\n",
       "133222      kPLP04J      0028-11-06         FEM\n",
       "167918       5P39Oq      0019-08-01         FEM\n",
       "174548      8M230mj      0008-11-10        MASC\n",
       "233347      xkdGe5Y      0015-09-11         FEM\n",
       "254193      Drp5kLd      0007-10-21         FEM\n",
       "268094       14pm8E      0032-08-05         FEM"
      ]
     },
     "execution_count": 16,
     "metadata": {},
     "output_type": "execute_result"
    }
   ],
   "source": [
    "df_temp[\n",
    "    df_temp['fechanacimiento'].notnull()][\n",
    "    (pd.to_datetime(df_temp['fechanacimiento'].dropna(), errors='coerce').isnull())]"
   ]
  },
  {
   "cell_type": "code",
   "execution_count": 20,
   "metadata": {},
   "outputs": [],
   "source": [
    "# Las fechas malas pueden descartarse\n",
    "df_temp['fechanacimiento'] = pd.to_datetime(df_temp['fechanacimiento'], errors='coerce')"
   ]
  },
  {
   "cell_type": "code",
   "execution_count": 21,
   "metadata": {},
   "outputs": [],
   "source": [
    "# Considero fechas anteriores al siglo XX como invalidas\n",
    "df_temp.loc[df_temp['fechanacimiento'] < '1900-01-01', 'fechanacimiento'] = pd.NaT"
   ]
  },
  {
   "cell_type": "code",
   "execution_count": 22,
   "metadata": {},
   "outputs": [
    {
     "data": {
      "text/plain": [
       "False"
      ]
     },
     "execution_count": 22,
     "metadata": {},
     "output_type": "execute_result"
    }
   ],
   "source": [
    "(df_temp['idpostulante'].value_counts() > 1).any()"
   ]
  },
  {
   "cell_type": "code",
   "execution_count": 20,
   "metadata": {},
   "outputs": [],
   "source": [
    "# df_temp.to_csv('../csv/datos_navent_fiuba/fiuba_2_postulantes_genero_y_edad_fix.csv')"
   ]
  },
  {
   "cell_type": "markdown",
   "metadata": {},
   "source": [
    "## 3. Vista de avisos online y offline\n",
    "### Inspeccion rapida: Forma y calidad"
   ]
  },
  {
   "cell_type": "code",
   "execution_count": 18,
   "metadata": {},
   "outputs": [
    {
     "data": {
      "text/html": [
       "<div>\n",
       "<style scoped>\n",
       "    .dataframe tbody tr th:only-of-type {\n",
       "        vertical-align: middle;\n",
       "    }\n",
       "\n",
       "    .dataframe tbody tr th {\n",
       "        vertical-align: top;\n",
       "    }\n",
       "\n",
       "    .dataframe thead th {\n",
       "        text-align: right;\n",
       "    }\n",
       "</style>\n",
       "<table border=\"1\" class=\"dataframe\">\n",
       "  <thead>\n",
       "    <tr style=\"text-align: right;\">\n",
       "      <th></th>\n",
       "      <th>idAviso</th>\n",
       "      <th>timestamp</th>\n",
       "      <th>idpostulante</th>\n",
       "    </tr>\n",
       "  </thead>\n",
       "  <tbody>\n",
       "    <tr>\n",
       "      <th>0</th>\n",
       "      <td>1808556</td>\n",
       "      <td>2018-04-30T19:55:37.990-0400</td>\n",
       "      <td>6kDNzl</td>\n",
       "    </tr>\n",
       "    <tr>\n",
       "      <th>1</th>\n",
       "      <td>1806679</td>\n",
       "      <td>2018-04-30T19:55:38.291-0400</td>\n",
       "      <td>Mozax</td>\n",
       "    </tr>\n",
       "    <tr>\n",
       "      <th>2</th>\n",
       "      <td>1808078</td>\n",
       "      <td>2018-04-30T19:55:37.686-0400</td>\n",
       "      <td>GYPPA</td>\n",
       "    </tr>\n",
       "    <tr>\n",
       "      <th>3</th>\n",
       "      <td>1112196813</td>\n",
       "      <td>2018-04-30T19:55:40.199-0400</td>\n",
       "      <td>EzeLjM2</td>\n",
       "    </tr>\n",
       "    <tr>\n",
       "      <th>4</th>\n",
       "      <td>1112435646</td>\n",
       "      <td>2018-04-30T19:55:40.507-0400</td>\n",
       "      <td>Bm5keG0</td>\n",
       "    </tr>\n",
       "  </tbody>\n",
       "</table>\n",
       "</div>"
      ],
      "text/plain": [
       "      idAviso                     timestamp idpostulante\n",
       "0     1808556  2018-04-30T19:55:37.990-0400       6kDNzl\n",
       "1     1806679  2018-04-30T19:55:38.291-0400        Mozax\n",
       "2     1808078  2018-04-30T19:55:37.686-0400        GYPPA\n",
       "3  1112196813  2018-04-30T19:55:40.199-0400      EzeLjM2\n",
       "4  1112435646  2018-04-30T19:55:40.507-0400      Bm5keG0"
      ]
     },
     "execution_count": 18,
     "metadata": {},
     "output_type": "execute_result"
    }
   ],
   "source": [
    "df_temp = pd.read_csv(datos_dir + 'fiuba desde 15 abril/fiuba_3_vistas.csv', \n",
    "                      dtype={'idAviso' : np.int64})\n",
    "df_temp.head()"
   ]
  },
  {
   "cell_type": "code",
   "execution_count": 17,
   "metadata": {},
   "outputs": [
    {
     "name": "stdout",
     "output_type": "stream",
     "text": [
      "<class 'pandas.core.frame.DataFrame'>\n",
      "RangeIndex: 11648230 entries, 0 to 11648229\n",
      "Data columns (total 3 columns):\n",
      "idAviso         int64\n",
      "timestamp       object\n",
      "idpostulante    object\n",
      "dtypes: int64(1), object(2)\n",
      "memory usage: 266.6+ MB\n"
     ]
    }
   ],
   "source": [
    "df_temp.info()"
   ]
  },
  {
   "cell_type": "code",
   "execution_count": 9,
   "metadata": {},
   "outputs": [
    {
     "data": {
      "text/plain": [
       "344387   2018-04-15 04:00:00.025\n",
       "344390   2018-04-15 04:00:00.227\n",
       "344388   2018-04-15 04:00:00.345\n",
       "344389   2018-04-15 04:00:00.442\n",
       "344391   2018-04-15 04:00:01.008\n",
       "344392   2018-04-15 04:00:01.186\n",
       "344393   2018-04-15 04:00:01.508\n",
       "344394   2018-04-15 04:00:01.668\n",
       "344395   2018-04-15 04:00:01.838\n",
       "344396   2018-04-15 04:00:02.660\n",
       "Name: timestamp, dtype: datetime64[ns]"
      ]
     },
     "execution_count": 9,
     "metadata": {},
     "output_type": "execute_result"
    }
   ],
   "source": [
    "pd.to_datetime(df_temp['timestamp'], format='%Y-%m-%d', infer_datetime_format=False).sort_values().head(10)"
   ]
  },
  {
   "cell_type": "code",
   "execution_count": 3,
   "metadata": {},
   "outputs": [
    {
     "data": {
      "text/plain": [
       "7    4995642\n",
       "6    4491197\n",
       "5    2075691\n",
       "4      81367\n",
       "3       4333\n",
       "Name: idpostulante, dtype: int64"
      ]
     },
     "execution_count": 3,
     "metadata": {},
     "output_type": "execute_result"
    }
   ],
   "source": [
    "df_temp['idpostulante'].apply(len).value_counts()"
   ]
  },
  {
   "cell_type": "markdown",
   "metadata": {},
   "source": [
    "## 6. Detalle de avisos online y offline\n",
    "### Inspeccion rapida: Forma y calidad"
   ]
  },
  {
   "cell_type": "code",
   "execution_count": 10,
   "metadata": {},
   "outputs": [
    {
     "data": {
      "text/html": [
       "<div>\n",
       "<style scoped>\n",
       "    .dataframe tbody tr th:only-of-type {\n",
       "        vertical-align: middle;\n",
       "    }\n",
       "\n",
       "    .dataframe tbody tr th {\n",
       "        vertical-align: top;\n",
       "    }\n",
       "\n",
       "    .dataframe thead th {\n",
       "        text-align: right;\n",
       "    }\n",
       "</style>\n",
       "<table border=\"1\" class=\"dataframe\">\n",
       "  <thead>\n",
       "    <tr style=\"text-align: right;\">\n",
       "      <th></th>\n",
       "      <th>idaviso</th>\n",
       "      <th>idpais</th>\n",
       "      <th>titulo</th>\n",
       "      <th>descripcion</th>\n",
       "      <th>nombre_zona</th>\n",
       "      <th>ciudad</th>\n",
       "      <th>mapacalle</th>\n",
       "      <th>tipo_de_trabajo</th>\n",
       "      <th>nivel_laboral</th>\n",
       "      <th>nombre_area</th>\n",
       "      <th>denominacion_empresa</th>\n",
       "    </tr>\n",
       "  </thead>\n",
       "  <tbody>\n",
       "    <tr>\n",
       "      <th>0</th>\n",
       "      <td>1573840</td>\n",
       "      <td>1</td>\n",
       "      <td>VENDEDORA/O</td>\n",
       "      <td>Nuestra Búsqueda se orienta a la incorporación...</td>\n",
       "      <td>Capital Federal</td>\n",
       "      <td>Flores</td>\n",
       "      <td>NaN</td>\n",
       "      <td>Full-time</td>\n",
       "      <td>Otro</td>\n",
       "      <td>Ventas</td>\n",
       "      <td>RIBEIRO SUC. FLORES</td>\n",
       "    </tr>\n",
       "    <tr>\n",
       "      <th>1</th>\n",
       "      <td>1712970</td>\n",
       "      <td>1</td>\n",
       "      <td>INGENIERO DE PRODUCTO</td>\n",
       "      <td>INGENIERO ELECTRICISTA/ELECTRONICO CON CONOCIM...</td>\n",
       "      <td>Capital Federal</td>\n",
       "      <td>NaN</td>\n",
       "      <td>NaN</td>\n",
       "      <td>Full-time</td>\n",
       "      <td>Otro</td>\n",
       "      <td>Otras Ingenierias</td>\n",
       "      <td>Aparatos Electricos Automaticos SA</td>\n",
       "    </tr>\n",
       "    <tr>\n",
       "      <th>2</th>\n",
       "      <td>1719970</td>\n",
       "      <td>1</td>\n",
       "      <td>** Diseñadores/as Gráficos Quark Express **</td>\n",
       "      <td>Diseñadores/as Gráficos Quark Express para Rev...</td>\n",
       "      <td>Capital Federal</td>\n",
       "      <td>NaN</td>\n",
       "      <td>NaN</td>\n",
       "      <td>Full-time</td>\n",
       "      <td>Otro</td>\n",
       "      <td>Diseño</td>\n",
       "      <td>Revista NEX IT Specialist ? Editorial Poulbert</td>\n",
       "    </tr>\n",
       "    <tr>\n",
       "      <th>3</th>\n",
       "      <td>1720060</td>\n",
       "      <td>1</td>\n",
       "      <td>Soporte Tecnico</td>\n",
       "      <td>Estudiante de Sistemas (Lic. en Sistemas de la...</td>\n",
       "      <td>Capital Federal</td>\n",
       "      <td>NaN</td>\n",
       "      <td>NaN</td>\n",
       "      <td>Full-time</td>\n",
       "      <td>Otro</td>\n",
       "      <td>Tecnologia / Sistemas</td>\n",
       "      <td>Tango Software</td>\n",
       "    </tr>\n",
       "    <tr>\n",
       "      <th>4</th>\n",
       "      <td>1720280</td>\n",
       "      <td>1</td>\n",
       "      <td>ADSCRIPTO DE GERENCIA</td>\n",
       "      <td>Importante Organización Académica Empresarial\\...</td>\n",
       "      <td>Buenos Aires (fuera de GBA)</td>\n",
       "      <td>NaN</td>\n",
       "      <td>NaN</td>\n",
       "      <td>Full-time</td>\n",
       "      <td>Otro</td>\n",
       "      <td>Otros</td>\n",
       "      <td>Experis</td>\n",
       "    </tr>\n",
       "  </tbody>\n",
       "</table>\n",
       "</div>"
      ],
      "text/plain": [
       "   idaviso  idpais                                       titulo  \\\n",
       "0  1573840       1                                  VENDEDORA/O   \n",
       "1  1712970       1                        INGENIERO DE PRODUCTO   \n",
       "2  1719970       1  ** Diseñadores/as Gráficos Quark Express **   \n",
       "3  1720060       1                              Soporte Tecnico   \n",
       "4  1720280       1                        ADSCRIPTO DE GERENCIA   \n",
       "\n",
       "                                         descripcion  \\\n",
       "0  Nuestra Búsqueda se orienta a la incorporación...   \n",
       "1  INGENIERO ELECTRICISTA/ELECTRONICO CON CONOCIM...   \n",
       "2  Diseñadores/as Gráficos Quark Express para Rev...   \n",
       "3  Estudiante de Sistemas (Lic. en Sistemas de la...   \n",
       "4  Importante Organización Académica Empresarial\\...   \n",
       "\n",
       "                   nombre_zona  ciudad mapacalle tipo_de_trabajo  \\\n",
       "0              Capital Federal  Flores       NaN       Full-time   \n",
       "1              Capital Federal     NaN       NaN       Full-time   \n",
       "2              Capital Federal     NaN       NaN       Full-time   \n",
       "3              Capital Federal     NaN       NaN       Full-time   \n",
       "4  Buenos Aires (fuera de GBA)     NaN       NaN       Full-time   \n",
       "\n",
       "  nivel_laboral            nombre_area  \\\n",
       "0          Otro                 Ventas   \n",
       "1          Otro      Otras Ingenierias   \n",
       "2          Otro                 Diseño   \n",
       "3          Otro  Tecnologia / Sistemas   \n",
       "4          Otro                  Otros   \n",
       "\n",
       "                             denominacion_empresa  \n",
       "0                             RIBEIRO SUC. FLORES  \n",
       "1              Aparatos Electricos Automaticos SA  \n",
       "2  Revista NEX IT Specialist ? Editorial Poulbert  \n",
       "3                                  Tango Software  \n",
       "4                                         Experis  "
      ]
     },
     "execution_count": 10,
     "metadata": {},
     "output_type": "execute_result"
    }
   ],
   "source": [
    "df_temp = pd.read_csv(datos_dir + 'fiuba desde 15 abril/fiuba_6_avisos_detalle.csv')\n",
    "df_temp.head()"
   ]
  },
  {
   "cell_type": "code",
   "execution_count": 11,
   "metadata": {},
   "outputs": [
    {
     "name": "stdout",
     "output_type": "stream",
     "text": [
      "<class 'pandas.core.frame.DataFrame'>\n",
      "RangeIndex: 13798 entries, 0 to 13797\n",
      "Data columns (total 11 columns):\n",
      "idaviso                 13798 non-null int64\n",
      "idpais                  13798 non-null int64\n",
      "titulo                  13798 non-null object\n",
      "descripcion             13798 non-null object\n",
      "nombre_zona             13798 non-null object\n",
      "ciudad                  86 non-null object\n",
      "mapacalle               1019 non-null object\n",
      "tipo_de_trabajo         13798 non-null object\n",
      "nivel_laboral           13798 non-null object\n",
      "nombre_area             13798 non-null object\n",
      "denominacion_empresa    13795 non-null object\n",
      "dtypes: int64(2), object(9)\n",
      "memory usage: 700.7+ KB\n"
     ]
    }
   ],
   "source": [
    "df_temp.info()"
   ]
  },
  {
   "cell_type": "code",
   "execution_count": 19,
   "metadata": {},
   "outputs": [
    {
     "data": {
      "text/plain": [
       "1    13798\n",
       "Name: idpais, dtype: int64"
      ]
     },
     "execution_count": 19,
     "metadata": {},
     "output_type": "execute_result"
    }
   ],
   "source": [
    "df_temp['idpais'].value_counts()"
   ]
  },
  {
   "cell_type": "code",
   "execution_count": 18,
   "metadata": {},
   "outputs": [
    {
     "data": {
      "text/plain": [
       "Gran Buenos Aires              12603\n",
       "Capital Federal                 1131\n",
       "Buenos Aires (fuera de GBA)       42\n",
       "La Plata                           4\n",
       "GBA Oeste                          3\n",
       "Mendoza                            3\n",
       "Ciudad de Mendoza                  3\n",
       "Rosario                            2\n",
       "Cordoba                            1\n",
       "Santa Fe                           1\n",
       "Santa Cruz                         1\n",
       "Catamarca                          1\n",
       "Tucuman                            1\n",
       "Neuquen                            1\n",
       "San Juan                           1\n",
       "Name: nombre_zona, dtype: int64"
      ]
     },
     "execution_count": 18,
     "metadata": {},
     "output_type": "execute_result"
    }
   ],
   "source": [
    "df_temp['nombre_zona'].value_counts()"
   ]
  },
  {
   "cell_type": "code",
   "execution_count": 17,
   "metadata": {},
   "outputs": [
    {
     "data": {
      "text/plain": [
       "Buenos Aires                           16\n",
       "Argentina                              13\n",
       "Capital Federal                        11\n",
       "Mendoza                                 6\n",
       "Capital Federal - Pompeya               3\n",
       "Córdoba                                 2\n",
       "Tortuguitas                             2\n",
       ".                                       2\n",
       "CABA                                    2\n",
       "Rosario                                 2\n",
       "La Plata                                1\n",
       "Grand Bourg                             1\n",
       "Buenos Aires Province                   1\n",
       "Lanús Este                              1\n",
       "BUENOS AIRES                            1\n",
       "Y en todo el pais                       1\n",
       "Flores                                  1\n",
       "b                                       1\n",
       "Capital Federal -Microcentro-           1\n",
       "Santa Rosa                              1\n",
       "General Pacheco.                        1\n",
       "Villa Ballester - Buenos Aires          1\n",
       "PARQUE BROWN                            1\n",
       "Totuguitas                              1\n",
       "Microcentro                             1\n",
       "La Boca                                 1\n",
       "Zona Norte                              1\n",
       "Capital federal y Gran Buenos Aires     1\n",
       "GBA Oeste                               1\n",
       "Don Torcuato                            1\n",
       "Neuquén - Cipolletti                    1\n",
       "INTERNATIONAL - NO EN ARGENTINA!!!!     1\n",
       "Capital Federal -Nuñez-                 1\n",
       "Maipú Mendoza                           1\n",
       "Mar del Plata                           1\n",
       "Mataderos                               1\n",
       "Zona Sur GBA                            1\n",
       "Name: ciudad, dtype: int64"
      ]
     },
     "execution_count": 17,
     "metadata": {},
     "output_type": "execute_result"
    }
   ],
   "source": [
    "df_temp['ciudad'].value_counts()"
   ]
  },
  {
   "cell_type": "code",
   "execution_count": 16,
   "metadata": {},
   "outputs": [
    {
     "data": {
      "text/plain": [
       "Full-time          12282\n",
       "Part-time           1141\n",
       "Teletrabajo          112\n",
       "Pasantia              85\n",
       "Por Horas             61\n",
       "Temporario            52\n",
       "Por Contrato          48\n",
       "Fines de Semana       13\n",
       "Primer empleo          4\n",
       "Name: tipo_de_trabajo, dtype: int64"
      ]
     },
     "execution_count": 16,
     "metadata": {},
     "output_type": "execute_result"
    }
   ],
   "source": [
    "df_temp['tipo_de_trabajo'].value_counts()"
   ]
  },
  {
   "cell_type": "code",
   "execution_count": 15,
   "metadata": {},
   "outputs": [
    {
     "data": {
      "text/plain": [
       "Senior / Semi-Senior                    9157\n",
       "Junior                                  2439\n",
       "Otro                                    1213\n",
       "Jefe / Supervisor / Responsable          805\n",
       "Gerencia / Alta Gerencia / Dirección     184\n",
       "Name: nivel_laboral, dtype: int64"
      ]
     },
     "execution_count": 15,
     "metadata": {},
     "output_type": "execute_result"
    }
   ],
   "source": [
    "df_temp['nivel_laboral'].value_counts()"
   ]
  },
  {
   "cell_type": "code",
   "execution_count": 14,
   "metadata": {},
   "outputs": [
    {
     "data": {
      "text/plain": [
       "Ventas                                       1766\n",
       "Comercial                                     937\n",
       "Administración                                937\n",
       "Producción                                    838\n",
       "Contabilidad                                  410\n",
       "Atención al Cliente                           392\n",
       "Tecnologia / Sistemas                         376\n",
       "Programación                                  367\n",
       "Call Center                                   277\n",
       "Mantenimiento                                 240\n",
       "Recursos Humanos                              238\n",
       "Almacén / Depósito / Expedición               232\n",
       "Logística                                     227\n",
       "Soporte Técnico                               209\n",
       "Recepcionista                                 199\n",
       "Gastronomia                                   198\n",
       "Marketing                                     191\n",
       "Telemarketing                                 188\n",
       "Oficios y Profesiones                         185\n",
       "Mantenimiento y Limpieza                      175\n",
       "Administración de Personal                    164\n",
       "Seguridad                                     154\n",
       "Tesorería                                     148\n",
       "Transporte                                    147\n",
       "Legal                                         141\n",
       "Finanzas                                      140\n",
       "Compras                                       140\n",
       "Otros                                         137\n",
       "Salud                                         128\n",
       "Calidad                                       127\n",
       "                                             ... \n",
       "Apoderado Aduanal                               3\n",
       "Arte y Cultura                                  3\n",
       "Diseño de Interiores / Decoración               3\n",
       "Enfermería (ver Enfermería)                     2\n",
       "Data Warehousing                                2\n",
       "Telefonista                                     2\n",
       "Topografía                                      2\n",
       "Traduccion                                      2\n",
       "Instrumentación quirúrgica                      2\n",
       "Bienestar Estudiantil                           2\n",
       "Negocios Internacionales                        2\n",
       "Psicología                                      2\n",
       "Odontología                                     1\n",
       "Prácticas cardiológicas                         1\n",
       "Instrumentación Minera                          1\n",
       "Ingeniería Geológica                            1\n",
       "Medicina Laboral                                1\n",
       "Trabajo Social                                  1\n",
       "Exploración Minera y Petroquimica               1\n",
       "Urbanismo                                       1\n",
       "Maternidad                                      1\n",
       "Multimedia                                      1\n",
       "Idiomas                                         1\n",
       "Auditoría de Seguros                            1\n",
       "Cuidados Intensivos Cardiologicos Adultos       1\n",
       "Diagnóstico por imágenes                        1\n",
       "Fonoaudiología                                  1\n",
       "Esterilización                                  1\n",
       "Trabajo social                                  1\n",
       "Auditoría Médica                                1\n",
       "Name: nombre_area, Length: 182, dtype: int64"
      ]
     },
     "execution_count": 14,
     "metadata": {},
     "output_type": "execute_result"
    }
   ],
   "source": [
    "df_temp['nombre_area'].value_counts()"
   ]
  },
  {
   "cell_type": "code",
   "execution_count": 13,
   "metadata": {},
   "outputs": [
    {
     "data": {
      "text/plain": [
       "181"
      ]
     },
     "execution_count": 13,
     "metadata": {},
     "output_type": "execute_result"
    }
   ],
   "source": [
    "df_temp['nombre_area'].str.upper().value_counts().count()"
   ]
  },
  {
   "cell_type": "code",
   "execution_count": 12,
   "metadata": {},
   "outputs": [
    {
     "data": {
      "text/html": [
       "<div>\n",
       "<style scoped>\n",
       "    .dataframe tbody tr th:only-of-type {\n",
       "        vertical-align: middle;\n",
       "    }\n",
       "\n",
       "    .dataframe tbody tr th {\n",
       "        vertical-align: top;\n",
       "    }\n",
       "\n",
       "    .dataframe thead th {\n",
       "        text-align: right;\n",
       "    }\n",
       "</style>\n",
       "<table border=\"1\" class=\"dataframe\">\n",
       "  <thead>\n",
       "    <tr style=\"text-align: right;\">\n",
       "      <th></th>\n",
       "      <th>idaviso</th>\n",
       "      <th>idpais</th>\n",
       "      <th>titulo</th>\n",
       "      <th>descripcion</th>\n",
       "      <th>nombre_zona</th>\n",
       "      <th>ciudad</th>\n",
       "      <th>mapacalle</th>\n",
       "      <th>tipo_de_trabajo</th>\n",
       "      <th>nivel_laboral</th>\n",
       "      <th>nombre_area</th>\n",
       "      <th>denominacion_empresa</th>\n",
       "    </tr>\n",
       "  </thead>\n",
       "  <tbody>\n",
       "    <tr>\n",
       "      <th>344</th>\n",
       "      <td>1112017891</td>\n",
       "      <td>1</td>\n",
       "      <td>Promotora - MODELO DE CALCE PORTSAID Y DESIDER...</td>\n",
       "      <td>&lt;p&gt;Nos encontramos en la búsqueda de una Model...</td>\n",
       "      <td>Gran Buenos Aires</td>\n",
       "      <td>NaN</td>\n",
       "      <td>NaN</td>\n",
       "      <td>Por Horas</td>\n",
       "      <td>Otro</td>\n",
       "      <td>Ventas</td>\n",
       "      <td>NaN</td>\n",
       "    </tr>\n",
       "    <tr>\n",
       "      <th>7079</th>\n",
       "      <td>1111960305</td>\n",
       "      <td>1</td>\n",
       "      <td>VENDEDORA- PORTSAID- ZONA NORTE</td>\n",
       "      <td>&lt;p align=\"center\"&gt;&lt;strong&gt;EXPERIENCIA PORTSAID...</td>\n",
       "      <td>Gran Buenos Aires</td>\n",
       "      <td>NaN</td>\n",
       "      <td>NaN</td>\n",
       "      <td>Full-time</td>\n",
       "      <td>Otro</td>\n",
       "      <td>Ventas</td>\n",
       "      <td>NaN</td>\n",
       "    </tr>\n",
       "    <tr>\n",
       "      <th>7080</th>\n",
       "      <td>1111960330</td>\n",
       "      <td>1</td>\n",
       "      <td>VENDEDORA- PORTSAID- CAPITAL FEDERAL</td>\n",
       "      <td>&lt;p align=\"center\"&gt;&lt;strong&gt;EXPERIENCIA PORTSAID...</td>\n",
       "      <td>Gran Buenos Aires</td>\n",
       "      <td>NaN</td>\n",
       "      <td>NaN</td>\n",
       "      <td>Full-time</td>\n",
       "      <td>Otro</td>\n",
       "      <td>Ventas</td>\n",
       "      <td>NaN</td>\n",
       "    </tr>\n",
       "  </tbody>\n",
       "</table>\n",
       "</div>"
      ],
      "text/plain": [
       "         idaviso  idpais                                             titulo  \\\n",
       "344   1112017891       1  Promotora - MODELO DE CALCE PORTSAID Y DESIDER...   \n",
       "7079  1111960305       1                    VENDEDORA- PORTSAID- ZONA NORTE   \n",
       "7080  1111960330       1               VENDEDORA- PORTSAID- CAPITAL FEDERAL   \n",
       "\n",
       "                                            descripcion        nombre_zona  \\\n",
       "344   <p>Nos encontramos en la búsqueda de una Model...  Gran Buenos Aires   \n",
       "7079  <p align=\"center\"><strong>EXPERIENCIA PORTSAID...  Gran Buenos Aires   \n",
       "7080  <p align=\"center\"><strong>EXPERIENCIA PORTSAID...  Gran Buenos Aires   \n",
       "\n",
       "     ciudad mapacalle tipo_de_trabajo nivel_laboral nombre_area  \\\n",
       "344     NaN       NaN       Por Horas          Otro      Ventas   \n",
       "7079    NaN       NaN       Full-time          Otro      Ventas   \n",
       "7080    NaN       NaN       Full-time          Otro      Ventas   \n",
       "\n",
       "     denominacion_empresa  \n",
       "344                   NaN  \n",
       "7079                  NaN  \n",
       "7080                  NaN  "
      ]
     },
     "execution_count": 12,
     "metadata": {},
     "output_type": "execute_result"
    }
   ],
   "source": [
    "df_temp[df_temp['denominacion_empresa'].isnull()]"
   ]
  },
  {
   "cell_type": "markdown",
   "metadata": {},
   "source": [
    "---\n",
    "\n",
    "# Inspeccion : Detalles de avisos faltantes"
   ]
  },
  {
   "cell_type": "code",
   "execution_count": 2,
   "metadata": {},
   "outputs": [
    {
     "data": {
      "text/html": [
       "<div>\n",
       "<style scoped>\n",
       "    .dataframe tbody tr th:only-of-type {\n",
       "        vertical-align: middle;\n",
       "    }\n",
       "\n",
       "    .dataframe tbody tr th {\n",
       "        vertical-align: top;\n",
       "    }\n",
       "\n",
       "    .dataframe thead th {\n",
       "        text-align: right;\n",
       "    }\n",
       "</style>\n",
       "<table border=\"1\" class=\"dataframe\">\n",
       "  <thead>\n",
       "    <tr style=\"text-align: right;\">\n",
       "      <th></th>\n",
       "      <th>idaviso</th>\n",
       "      <th>idpais</th>\n",
       "      <th>titulo</th>\n",
       "      <th>descripcion</th>\n",
       "      <th>nombre_zona</th>\n",
       "      <th>ciudad</th>\n",
       "      <th>mapacalle</th>\n",
       "      <th>tipo_de_trabajo</th>\n",
       "      <th>nivel_laboral</th>\n",
       "      <th>nombre_area</th>\n",
       "      <th>denominacion_empresa</th>\n",
       "    </tr>\n",
       "  </thead>\n",
       "  <tbody>\n",
       "    <tr>\n",
       "      <th>0</th>\n",
       "      <td>1001284385</td>\n",
       "      <td>1</td>\n",
       "      <td>Dejanos tu CV</td>\n",
       "      <td>&lt;p&gt;&lt;br /&gt;Si est&amp;aacute;s interesado en ser par...</td>\n",
       "      <td>Corrientes</td>\n",
       "      <td>NaN</td>\n",
       "      <td>NaN</td>\n",
       "      <td>Full-time</td>\n",
       "      <td>NaN</td>\n",
       "      <td>Otros</td>\n",
       "      <td>Establecimiento Las Marías</td>\n",
       "    </tr>\n",
       "    <tr>\n",
       "      <th>1</th>\n",
       "      <td>1110092955</td>\n",
       "      <td>1</td>\n",
       "      <td>para línea de producción (ref. 28376)</td>\n",
       "      <td>&lt;p&gt;Empresas vinculadas a la industria automotr...</td>\n",
       "      <td>GBA Oeste</td>\n",
       "      <td>NaN</td>\n",
       "      <td>NaN</td>\n",
       "      <td>Full-time</td>\n",
       "      <td>NaN</td>\n",
       "      <td>Producción</td>\n",
       "      <td>RANDSTAD</td>\n",
       "    </tr>\n",
       "    <tr>\n",
       "      <th>2</th>\n",
       "      <td>1110092958</td>\n",
       "      <td>1</td>\n",
       "      <td>para mantenimiento (ref. 27181)</td>\n",
       "      <td>&lt;p style=\"display: inline !important;\"&gt;Empresa...</td>\n",
       "      <td>GBA Oeste</td>\n",
       "      <td>NaN</td>\n",
       "      <td>NaN</td>\n",
       "      <td>Full-time</td>\n",
       "      <td>NaN</td>\n",
       "      <td>Mantenimiento</td>\n",
       "      <td>RANDSTAD</td>\n",
       "    </tr>\n",
       "    <tr>\n",
       "      <th>3</th>\n",
       "      <td>1110391074</td>\n",
       "      <td>1</td>\n",
       "      <td>Trabajá con nosotros</td>\n",
       "      <td>&lt;p&gt;&lt;strong&gt;Trabaj&amp;aacute; con nosotros&lt;/strong...</td>\n",
       "      <td>Cordoba</td>\n",
       "      <td>NaN</td>\n",
       "      <td>NaN</td>\n",
       "      <td>Full-time</td>\n",
       "      <td>NaN</td>\n",
       "      <td>Ingeniería  Industrial</td>\n",
       "      <td>Coca Cola Andina Argentina</td>\n",
       "    </tr>\n",
       "    <tr>\n",
       "      <th>4</th>\n",
       "      <td>1110669632</td>\n",
       "      <td>1</td>\n",
       "      <td>Técnico de Mantenimiento</td>\n",
       "      <td>&lt;p&gt;Experiencia en f&amp;aacute;bricas cosm&amp;eacute;...</td>\n",
       "      <td>GBA Oeste</td>\n",
       "      <td>NaN</td>\n",
       "      <td>, Lanús</td>\n",
       "      <td>Full-time</td>\n",
       "      <td>NaN</td>\n",
       "      <td>Mantenimiento</td>\n",
       "      <td>PLUMARI S A</td>\n",
       "    </tr>\n",
       "  </tbody>\n",
       "</table>\n",
       "</div>"
      ],
      "text/plain": [
       "      idaviso  idpais                                 titulo  \\\n",
       "0  1001284385       1                          Dejanos tu CV   \n",
       "1  1110092955       1  para línea de producción (ref. 28376)   \n",
       "2  1110092958       1        para mantenimiento (ref. 27181)   \n",
       "3  1110391074       1                   Trabajá con nosotros   \n",
       "4  1110669632       1               Técnico de Mantenimiento   \n",
       "\n",
       "                                         descripcion nombre_zona ciudad  \\\n",
       "0  <p><br />Si est&aacute;s interesado en ser par...  Corrientes    NaN   \n",
       "1  <p>Empresas vinculadas a la industria automotr...   GBA Oeste    NaN   \n",
       "2  <p style=\"display: inline !important;\">Empresa...   GBA Oeste    NaN   \n",
       "3  <p><strong>Trabaj&aacute; con nosotros</strong...     Cordoba    NaN   \n",
       "4  <p>Experiencia en f&aacute;bricas cosm&eacute;...   GBA Oeste    NaN   \n",
       "\n",
       "  mapacalle tipo_de_trabajo nivel_laboral             nombre_area  \\\n",
       "0       NaN       Full-time           NaN                   Otros   \n",
       "1       NaN       Full-time           NaN              Producción   \n",
       "2       NaN       Full-time           NaN           Mantenimiento   \n",
       "3       NaN       Full-time           NaN  Ingeniería  Industrial   \n",
       "4   , Lanús       Full-time           NaN           Mantenimiento   \n",
       "\n",
       "         denominacion_empresa  \n",
       "0  Establecimiento Las Marías  \n",
       "1                    RANDSTAD  \n",
       "2                    RANDSTAD  \n",
       "3  Coca Cola Andina Argentina  \n",
       "4                 PLUMARI S A  "
      ]
     },
     "execution_count": 2,
     "metadata": {},
     "output_type": "execute_result"
    }
   ],
   "source": [
    "df_temp = pd.read_csv(datos_dir + 'fiuba_6_avisos_detalle_missing_nivel_laboral.csv')\n",
    "df_temp.head()"
   ]
  },
  {
   "cell_type": "code",
   "execution_count": 3,
   "metadata": {},
   "outputs": [
    {
     "name": "stdout",
     "output_type": "stream",
     "text": [
      "<class 'pandas.core.frame.DataFrame'>\n",
      "RangeIndex: 338 entries, 0 to 337\n",
      "Data columns (total 11 columns):\n",
      "idaviso                 338 non-null int64\n",
      "idpais                  338 non-null int64\n",
      "titulo                  338 non-null object\n",
      "descripcion             338 non-null object\n",
      "nombre_zona             338 non-null object\n",
      "ciudad                  28 non-null object\n",
      "mapacalle               271 non-null object\n",
      "tipo_de_trabajo         338 non-null object\n",
      "nivel_laboral           3 non-null object\n",
      "nombre_area             338 non-null object\n",
      "denominacion_empresa    338 non-null object\n",
      "dtypes: int64(2), object(9)\n",
      "memory usage: 29.1+ KB\n"
     ]
    }
   ],
   "source": [
    "df_temp.info()"
   ]
  },
  {
   "cell_type": "code",
   "execution_count": null,
   "metadata": {},
   "outputs": [],
   "source": []
  }
 ],
 "metadata": {
  "kernelspec": {
   "display_name": "Python 3",
   "language": "python",
   "name": "python3"
  },
  "language_info": {
   "codemirror_mode": {
    "name": "ipython",
    "version": 3
   },
   "file_extension": ".py",
   "mimetype": "text/x-python",
   "name": "python",
   "nbconvert_exporter": "python",
   "pygments_lexer": "ipython3",
   "version": "3.6.5"
  }
 },
 "nbformat": 4,
 "nbformat_minor": 2
}
